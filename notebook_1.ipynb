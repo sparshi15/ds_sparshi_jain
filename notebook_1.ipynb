{
 "cells": [
  {
   "cell_type": "markdown",
   "id": "82773ac6",
   "metadata": {},
   "source": [
    "# Data Science Assignment - Web3 Trading Team\n",
    "### Notebook 1 - Main Analysis\n",
    "**Candidate:** Sparshi Jain\n",
    "\n",
    "This notebook follows the standardized submission format as per instructions.\n",
    "\n",
    "**Sections:**\n",
    "1. Import Libraries\n",
    "2. Load Datasets\n",
    "3. Exploratory Data Analysis (EDA)\n",
    "4. Data Cleaning & Merging\n",
    "5. Analysis & Visualizations\n",
    "6. Save Outputs\n",
    "7. Summary of Insights"
   ]
  },
  {
   "cell_type": "markdown",
   "id": "21e390c8",
   "metadata": {},
   "source": [
    "## 1. Import Libraries"
   ]
  },
  {
   "cell_type": "markdown",
   "id": "6187521d",
   "metadata": {},
   "source": [
    "## 2. Load Datasets"
   ]
  },
  {
   "cell_type": "markdown",
   "id": "c1166828",
   "metadata": {},
   "source": [
    "## 3. Exploratory Data Analysis (EDA)"
   ]
  },
  {
   "cell_type": "markdown",
   "id": "3834dd33",
   "metadata": {},
   "source": [
    "## 4. Data Cleaning & Merging"
   ]
  },
  {
   "cell_type": "markdown",
   "id": "c28fa392",
   "metadata": {},
   "source": [
    "## 5. Analysis & Visualizations"
   ]
  },
  {
   "cell_type": "markdown",
   "id": "a2b74763",
   "metadata": {},
   "source": [
    "## 6. Save Outputs"
   ]
  },
  {
   "cell_type": "markdown",
   "id": "0a7ea3d5",
   "metadata": {},
   "source": [
    "## 7. Summary of Insights"
   ]
  },
  {
   "cell_type": "code",
   "execution_count": 11,
   "id": "491223d6",
   "metadata": {},
   "outputs": [
    {
     "name": "stdout",
     "output_type": "stream",
     "text": [
      "Merged DataFrame preview:\n",
      "                                      Account  Coin  Execution Price  \\\n",
      "0  0xae5eacaf9c6b9111fd53034a602c192a04e082ed  @107           7.9769   \n",
      "1  0xae5eacaf9c6b9111fd53034a602c192a04e082ed  @107           7.9800   \n",
      "2  0xae5eacaf9c6b9111fd53034a602c192a04e082ed  @107           7.9855   \n",
      "3  0xae5eacaf9c6b9111fd53034a602c192a04e082ed  @107           7.9874   \n",
      "4  0xae5eacaf9c6b9111fd53034a602c192a04e082ed  @107           7.9894   \n",
      "\n",
      "   Size Tokens  Size USD Side       Timestamp IST  Start Position Direction  \\\n",
      "0       986.87   7872.16  BUY 2024-12-02 22:50:00        0.000000       Buy   \n",
      "1        16.00    127.68  BUY 2024-12-02 22:50:00      986.524596       Buy   \n",
      "2       144.09   1150.63  BUY 2024-12-02 22:50:00     1002.518996       Buy   \n",
      "3       142.98   1142.04  BUY 2024-12-02 22:50:00     1146.558564       Buy   \n",
      "4         8.73     69.75  BUY 2024-12-02 22:50:00     1289.488521       Buy   \n",
      "\n",
      "   Closed PnL                                   Transaction Hash     Order ID  \\\n",
      "0         0.0  0xec09451986a1874e3a980418412fcd0201f500c95bac...  52017706630   \n",
      "1         0.0  0xec09451986a1874e3a980418412fcd0201f500c95bac...  52017706630   \n",
      "2         0.0  0xec09451986a1874e3a980418412fcd0201f500c95bac...  52017706630   \n",
      "3         0.0  0xec09451986a1874e3a980418412fcd0201f500c95bac...  52017706630   \n",
      "4         0.0  0xec09451986a1874e3a980418412fcd0201f500c95bac...  52017706630   \n",
      "\n",
      "   Crossed       Fee      Trade ID     Timestamp        date     timestamp  \\\n",
      "0     True  0.345404  8.950000e+14  1.730000e+12  2024-12-02  1.733117e+09   \n",
      "1     True  0.005600  4.430000e+14  1.730000e+12  2024-12-02  1.733117e+09   \n",
      "2     True  0.050431  6.600000e+14  1.730000e+12  2024-12-02  1.733117e+09   \n",
      "3     True  0.050043  1.080000e+15  1.730000e+12  2024-12-02  1.733117e+09   \n",
      "4     True  0.003055  1.050000e+15  1.730000e+12  2024-12-02  1.733117e+09   \n",
      "\n",
      "   value classification  \n",
      "0   80.0  Extreme Greed  \n",
      "1   80.0  Extreme Greed  \n",
      "2   80.0  Extreme Greed  \n",
      "3   80.0  Extreme Greed  \n",
      "4   80.0  Extreme Greed  \n",
      "\n",
      "Average PnL by Market Sentiment:\n",
      "classification\n",
      "Extreme Fear     34.537862\n",
      "Extreme Greed    67.892861\n",
      "Fear             54.290400\n",
      "Greed            42.743559\n",
      "Neutral          34.307718\n",
      "Name: Closed PnL, dtype: float64\n"
     ]
    },
    {
     "data": {
      "image/png": "[encoded data removed]",
      "text/plain": [
       "<Figure size 640x480 with 1 Axes>"
      ]
     },
     "metadata": {},
     "output_type": "display_data"
    }
   ],
   "source": [
    "import pandas as pd\n",
    "import matplotlib.pyplot as plt\n",
    "from pathlib import Path\n",
    "\n",
    "# ================================\n",
    "# 1. Load datasets\n",
    "# ================================\n",
    "trader_df = pd.read_csv(r\"C:\\Users\\91706\\OneDrive\\Desktop\\stock any\\historical_data.csv\")\n",
    "sentiment_df = pd.read_csv(r\"C:\\Users\\91706\\OneDrive\\Desktop\\stock any\\fear_greed_index.csv\")\n",
    "\n",
    "# ================================\n",
    "# 2. Clean column names (remove spaces)\n",
    "# ================================\n",
    "trader_df.columns = trader_df.columns.str.strip()\n",
    "sentiment_df.columns = sentiment_df.columns.str.strip()\n",
    "\n",
    "# ================================\n",
    "# 3. Convert date columns\n",
    "# ================================\n",
    "# Convert Timestamp IST to datetime\n",
    "trader_df['Timestamp IST'] = pd.to_datetime(trader_df['Timestamp IST'], format='%d-%m-%Y %H:%M', errors='coerce')\n",
    "# Extract only the date part\n",
    "trader_df['date'] = trader_df['Timestamp IST'].dt.date\n",
    "\n",
    "# Convert sentiment date column to datetime.date type\n",
    "sentiment_df['date'] = pd.to_datetime(sentiment_df['date'], errors='coerce').dt.date\n",
    "\n",
    "# ================================\n",
    "# 4. Merge datasets\n",
    "# ================================\n",
    "merged_df = pd.merge(trader_df, sentiment_df, on='date', how='left')\n",
    "\n",
    "print(\"Merged DataFrame preview:\")\n",
    "print(merged_df.head())\n",
    "\n",
    "# ================================\n",
    "# 5. Calculate average PnL by sentiment\n",
    "# ================================\n",
    "avg_pnl = merged_df.groupby('classification')['Closed PnL'].mean()\n",
    "print(\"\\nAverage PnL by Market Sentiment:\")\n",
    "print(avg_pnl)\n",
    "\n",
    "# ================================\n",
    "# 6. Save folders for outputs\n",
    "# ================================\n",
    "Path(\"outputs\").mkdir(exist_ok=True)\n",
    "Path(\"csv_files\").mkdir(exist_ok=True)\n",
    "\n",
    "# Save merged data\n",
    "merged_df.to_csv(\"csv_files/merged_data.csv\", index=False)\n",
    "\n",
    "# ================================\n",
    "# 7. Plot Average PnL by Market Sentiment\n",
    "# ================================\n",
    "avg_pnl.plot(kind='bar', color=['red', 'green'])\n",
    "plt.title('Average Profit/Loss by Market Sentiment')\n",
    "plt.xlabel('Market Sentiment')\n",
    "plt.ylabel('Average Closed PnL')\n",
    "plt.xticks(rotation=45)\n",
    "plt.tight_layout()\n",
    "\n",
    "# Save and show plot\n",
    "plt.savefig(\"outputs/avg_pnl_by_sentiment.png\")\n",
    "plt.show()\n"
   ]
  },
  {
   "cell_type": "code",
   "execution_count": null,
   "id": "62244794",
   "metadata": {},
   "outputs": [],
   "source": []
  }
 ],
 "metadata": {
  "kernelspec": {
   "display_name": "churn_env",
   "language": "python",
   "name": "python3"
  },
  "language_info": {
   "codemirror_mode": {
    "name": "ipython",
    "version": 3
   },
   "file_extension": ".py",
   "mimetype": "text/x-python",
   "name": "python",
   "nbconvert_exporter": "python",
   "pygments_lexer": "ipython3",
   "version": "3.10.18"
  }
 },
 "nbformat": 4,
 "nbformat_minor": 5
}
